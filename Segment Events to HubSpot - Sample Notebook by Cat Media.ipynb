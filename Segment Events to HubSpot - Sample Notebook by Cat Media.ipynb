{
 "cells": [
  {
   "cell_type": "markdown",
   "metadata": {},
   "source": [
    "# User Analytics and Event Tracking with Segment\n",
    "### This notebook is a proof of concept of Twilio Segment Customer Data Plarform integrated with HubSpot to send app events as Contact Object properties data and as Custom Events."
   ]
  },
  {
   "cell_type": "code",
   "execution_count": 15,
   "metadata": {},
   "outputs": [
    {
     "name": "stdout",
     "output_type": "stream",
     "text": [
      "Requirement already satisfied: appnope==0.1.4 in ./.venv/lib/python3.13/site-packages (from -r requirements.txt (line 1)) (0.1.4)\n",
      "Requirement already satisfied: asttokens==3.0.0 in ./.venv/lib/python3.13/site-packages (from -r requirements.txt (line 2)) (3.0.0)\n",
      "Requirement already satisfied: backoff==2.2.1 in ./.venv/lib/python3.13/site-packages (from -r requirements.txt (line 3)) (2.2.1)\n",
      "Requirement already satisfied: blinker==1.9.0 in ./.venv/lib/python3.13/site-packages (from -r requirements.txt (line 4)) (1.9.0)\n",
      "Requirement already satisfied: certifi==2024.12.14 in ./.venv/lib/python3.13/site-packages (from -r requirements.txt (line 5)) (2024.12.14)\n",
      "Requirement already satisfied: charset-normalizer==3.4.1 in ./.venv/lib/python3.13/site-packages (from -r requirements.txt (line 6)) (3.4.1)\n",
      "Requirement already satisfied: click==8.1.8 in ./.venv/lib/python3.13/site-packages (from -r requirements.txt (line 7)) (8.1.8)\n",
      "Requirement already satisfied: comm==0.2.2 in ./.venv/lib/python3.13/site-packages (from -r requirements.txt (line 8)) (0.2.2)\n",
      "Requirement already satisfied: debugpy==1.8.12 in ./.venv/lib/python3.13/site-packages (from -r requirements.txt (line 9)) (1.8.12)\n",
      "Requirement already satisfied: decorator==5.1.1 in ./.venv/lib/python3.13/site-packages (from -r requirements.txt (line 10)) (5.1.1)\n",
      "Requirement already satisfied: executing==2.2.0 in ./.venv/lib/python3.13/site-packages (from -r requirements.txt (line 11)) (2.2.0)\n",
      "Requirement already satisfied: Flask==3.1.0 in ./.venv/lib/python3.13/site-packages (from -r requirements.txt (line 12)) (3.1.0)\n",
      "Requirement already satisfied: idna==3.10 in ./.venv/lib/python3.13/site-packages (from -r requirements.txt (line 13)) (3.10)\n",
      "Requirement already satisfied: ipykernel==6.29.5 in ./.venv/lib/python3.13/site-packages (from -r requirements.txt (line 14)) (6.29.5)\n",
      "Requirement already satisfied: ipython==8.31.0 in ./.venv/lib/python3.13/site-packages (from -r requirements.txt (line 15)) (8.31.0)\n",
      "Requirement already satisfied: itsdangerous==2.2.0 in ./.venv/lib/python3.13/site-packages (from -r requirements.txt (line 16)) (2.2.0)\n",
      "Requirement already satisfied: jedi==0.19.2 in ./.venv/lib/python3.13/site-packages (from -r requirements.txt (line 17)) (0.19.2)\n",
      "Requirement already satisfied: Jinja2==3.1.5 in ./.venv/lib/python3.13/site-packages (from -r requirements.txt (line 18)) (3.1.5)\n",
      "Requirement already satisfied: jupyter_client==8.6.3 in ./.venv/lib/python3.13/site-packages (from -r requirements.txt (line 19)) (8.6.3)\n",
      "Requirement already satisfied: jupyter_core==5.7.2 in ./.venv/lib/python3.13/site-packages (from -r requirements.txt (line 20)) (5.7.2)\n",
      "Requirement already satisfied: MarkupSafe==3.0.2 in ./.venv/lib/python3.13/site-packages (from -r requirements.txt (line 21)) (3.0.2)\n",
      "Requirement already satisfied: matplotlib-inline==0.1.7 in ./.venv/lib/python3.13/site-packages (from -r requirements.txt (line 22)) (0.1.7)\n",
      "Requirement already satisfied: nest-asyncio==1.6.0 in ./.venv/lib/python3.13/site-packages (from -r requirements.txt (line 23)) (1.6.0)\n",
      "Requirement already satisfied: packaging==24.2 in ./.venv/lib/python3.13/site-packages (from -r requirements.txt (line 24)) (24.2)\n",
      "Requirement already satisfied: parso==0.8.4 in ./.venv/lib/python3.13/site-packages (from -r requirements.txt (line 25)) (0.8.4)\n",
      "Requirement already satisfied: pexpect==4.9.0 in ./.venv/lib/python3.13/site-packages (from -r requirements.txt (line 26)) (4.9.0)\n",
      "Requirement already satisfied: platformdirs==4.3.6 in ./.venv/lib/python3.13/site-packages (from -r requirements.txt (line 27)) (4.3.6)\n",
      "Requirement already satisfied: prompt_toolkit==3.0.50 in ./.venv/lib/python3.13/site-packages (from -r requirements.txt (line 28)) (3.0.50)\n",
      "Requirement already satisfied: psutil==6.1.1 in ./.venv/lib/python3.13/site-packages (from -r requirements.txt (line 29)) (6.1.1)\n",
      "Requirement already satisfied: ptyprocess==0.7.0 in ./.venv/lib/python3.13/site-packages (from -r requirements.txt (line 30)) (0.7.0)\n",
      "Requirement already satisfied: pure_eval==0.2.3 in ./.venv/lib/python3.13/site-packages (from -r requirements.txt (line 31)) (0.2.3)\n",
      "Requirement already satisfied: Pygments==2.19.1 in ./.venv/lib/python3.13/site-packages (from -r requirements.txt (line 32)) (2.19.1)\n",
      "Requirement already satisfied: PyJWT==2.10.1 in ./.venv/lib/python3.13/site-packages (from -r requirements.txt (line 33)) (2.10.1)\n",
      "Requirement already satisfied: python-dateutil==2.9.0.post0 in ./.venv/lib/python3.13/site-packages (from -r requirements.txt (line 34)) (2.9.0.post0)\n",
      "Requirement already satisfied: python-dotenv==1.0.1 in ./.venv/lib/python3.13/site-packages (from -r requirements.txt (line 35)) (1.0.1)\n",
      "Requirement already satisfied: pyzmq==26.2.0 in ./.venv/lib/python3.13/site-packages (from -r requirements.txt (line 36)) (26.2.0)\n",
      "Requirement already satisfied: requests==2.32.3 in ./.venv/lib/python3.13/site-packages (from -r requirements.txt (line 37)) (2.32.3)\n",
      "Requirement already satisfied: segment-analytics-python==2.3.3 in ./.venv/lib/python3.13/site-packages (from -r requirements.txt (line 38)) (2.3.3)\n",
      "Requirement already satisfied: six==1.17.0 in ./.venv/lib/python3.13/site-packages (from -r requirements.txt (line 39)) (1.17.0)\n",
      "Requirement already satisfied: stack-data==0.6.3 in ./.venv/lib/python3.13/site-packages (from -r requirements.txt (line 40)) (0.6.3)\n",
      "Requirement already satisfied: tornado==6.4.2 in ./.venv/lib/python3.13/site-packages (from -r requirements.txt (line 41)) (6.4.2)\n",
      "Requirement already satisfied: traitlets==5.14.3 in ./.venv/lib/python3.13/site-packages (from -r requirements.txt (line 42)) (5.14.3)\n",
      "Requirement already satisfied: urllib3==2.3.0 in ./.venv/lib/python3.13/site-packages (from -r requirements.txt (line 43)) (2.3.0)\n",
      "Requirement already satisfied: wcwidth==0.2.13 in ./.venv/lib/python3.13/site-packages (from -r requirements.txt (line 44)) (0.2.13)\n",
      "Requirement already satisfied: Werkzeug==3.1.3 in ./.venv/lib/python3.13/site-packages (from -r requirements.txt (line 45)) (3.1.3)\n",
      "\n",
      "\u001b[1m[\u001b[0m\u001b[34;49mnotice\u001b[0m\u001b[1;39;49m]\u001b[0m\u001b[39;49m A new release of pip is available: \u001b[0m\u001b[31;49m24.2\u001b[0m\u001b[39;49m -> \u001b[0m\u001b[32;49m24.3.1\u001b[0m\n",
      "\u001b[1m[\u001b[0m\u001b[34;49mnotice\u001b[0m\u001b[1;39;49m]\u001b[0m\u001b[39;49m To update, run: \u001b[0m\u001b[32;49mpip install --upgrade pip\u001b[0m\n"
     ]
    }
   ],
   "source": [
    "!pip install -r requirements.txt"
   ]
  },
  {
   "cell_type": "code",
   "execution_count": 14,
   "metadata": {},
   "outputs": [],
   "source": [
    "# import dependencies\n",
    "import segment.analytics as analytics\n",
    "import datetime\n",
    "import dotenv\n",
    "import random\n",
    "import dummies\n",
    "\n",
    "write_key = 'Your Segment Write Key'\n",
    "\n",
    "# Load the environment variables\n",
    "write_key = dotenv.get_key('.env', 'WRITE_KEY')\n",
    "\n",
    "if write_key is None or write_key == 'Your Segment Write Key' or write_key == '':\n",
    "    print('No write key found in .env file or inlined in the script')\n",
    "    \n",
    "\n",
    "# Set up the analytics client\n",
    "analytics.write_key = write_key\n"
   ]
  },
  {
   "cell_type": "code",
   "execution_count": 2,
   "metadata": {},
   "outputs": [
    {
     "name": "stdout",
     "output_type": "stream",
     "text": [
      "Jenkins Flores jenkins.flores@cm-demo-123.com +34231436674 Madrid Spain dfb7f23b\n"
     ]
    }
   ],
   "source": [
    "# Create a sample user profile with a random email and phone number\n",
    "fist_name = random.choice(dummies.list_of_last_names)\n",
    "last_name = random.choice(dummies.list_of_last_names)\n",
    "email = fist_name.lower() +'.'+ last_name.lower() + '@cm-demo-123.com'\n",
    "location = random.choice(dummies.list_of_locations)\n",
    "phone = location['area_code'] + str(random.randint(100000000, 999999999))\n",
    "country = location['Country']\n",
    "city = location['city']\n",
    "\n",
    "#generate random alphanumeric string of length 8\n",
    "def random_string(length):\n",
    "    return ''.join(random.choice('0123456789ABCDEF') for i in range(length)).lower()\n",
    "id = random_string(8)\n",
    "\n",
    "\n",
    "print(fist_name, last_name, email, phone, city, country, id)"
   ]
  },
  {
   "cell_type": "code",
   "execution_count": null,
   "metadata": {},
   "outputs": [
    {
     "ename": "AssertionError",
     "evalue": "write_key must have <class 'str'>, got: None",
     "output_type": "error",
     "traceback": [
      "\u001b[0;31m---------------------------------------------------------------------------\u001b[0m",
      "\u001b[0;31mAssertionError\u001b[0m                            Traceback (most recent call last)",
      "Cell \u001b[0;32mIn[3], line 2\u001b[0m\n\u001b[1;32m      1\u001b[0m \u001b[38;5;66;03m# Identify the user\u001b[39;00m\n\u001b[0;32m----> 2\u001b[0m \u001b[43manalytics\u001b[49m\u001b[38;5;241;43m.\u001b[39;49m\u001b[43midentify\u001b[49m\u001b[43m(\u001b[49m\u001b[38;5;28;43mid\u001b[39;49m\u001b[43m,\u001b[49m\u001b[43m \u001b[49m\u001b[43m{\u001b[49m\n\u001b[1;32m      3\u001b[0m \u001b[43m    \u001b[49m\u001b[38;5;124;43m'\u001b[39;49m\u001b[38;5;124;43mfirst_name\u001b[39;49m\u001b[38;5;124;43m'\u001b[39;49m\u001b[43m:\u001b[49m\u001b[43m \u001b[49m\u001b[43mfist_name\u001b[49m\u001b[43m,\u001b[49m\n\u001b[1;32m      4\u001b[0m \u001b[43m    \u001b[49m\u001b[38;5;124;43m'\u001b[39;49m\u001b[38;5;124;43mlast_name\u001b[39;49m\u001b[38;5;124;43m'\u001b[39;49m\u001b[43m:\u001b[49m\u001b[43m \u001b[49m\u001b[43mlast_name\u001b[49m\u001b[43m,\u001b[49m\n\u001b[1;32m      5\u001b[0m \u001b[43m    \u001b[49m\u001b[38;5;124;43m'\u001b[39;49m\u001b[38;5;124;43memail\u001b[39;49m\u001b[38;5;124;43m'\u001b[39;49m\u001b[43m:\u001b[49m\u001b[43m \u001b[49m\u001b[43memail\u001b[49m\u001b[43m,\u001b[49m\n\u001b[1;32m      6\u001b[0m \u001b[43m    \u001b[49m\u001b[38;5;124;43m'\u001b[39;49m\u001b[38;5;124;43mphone\u001b[39;49m\u001b[38;5;124;43m'\u001b[39;49m\u001b[43m:\u001b[49m\u001b[43m \u001b[49m\u001b[43mphone\u001b[49m\u001b[43m,\u001b[49m\n\u001b[1;32m      7\u001b[0m \u001b[43m    \u001b[49m\u001b[38;5;124;43m'\u001b[39;49m\u001b[38;5;124;43maddress\u001b[39;49m\u001b[38;5;124;43m'\u001b[39;49m\u001b[43m:\u001b[49m\u001b[43m \u001b[49m\u001b[43m{\u001b[49m\u001b[43m \u001b[49m\u001b[38;5;124;43m'\u001b[39;49m\u001b[38;5;124;43mcity\u001b[39;49m\u001b[38;5;124;43m'\u001b[39;49m\u001b[43m:\u001b[49m\u001b[43m \u001b[49m\u001b[43mcity\u001b[49m\u001b[43m,\u001b[49m\u001b[43m \u001b[49m\u001b[38;5;124;43m'\u001b[39;49m\u001b[38;5;124;43mcountry\u001b[39;49m\u001b[38;5;124;43m'\u001b[39;49m\u001b[43m:\u001b[49m\u001b[43m \u001b[49m\u001b[43mcountry\u001b[49m\u001b[43m \u001b[49m\u001b[43m}\u001b[49m\u001b[43m,\u001b[49m\n\u001b[1;32m      8\u001b[0m \u001b[43m    \u001b[49m\u001b[38;5;124;43m'\u001b[39;49m\u001b[38;5;124;43mcreated_at\u001b[39;49m\u001b[38;5;124;43m'\u001b[39;49m\u001b[43m:\u001b[49m\u001b[43m \u001b[49m\u001b[43mdatetime\u001b[49m\u001b[38;5;241;43m.\u001b[39;49m\u001b[43mdatetime\u001b[49m\u001b[38;5;241;43m.\u001b[39;49m\u001b[43mnow\u001b[49m\u001b[43m(\u001b[49m\u001b[43m)\u001b[49m\n\u001b[1;32m      9\u001b[0m \u001b[43m}\u001b[49m\u001b[43m)\u001b[49m\n",
      "File \u001b[0;32m~/Documents/GitHub/segment-poc/.venv/lib/python3.13/site-packages/segment/analytics/__init__.py:37\u001b[0m, in \u001b[0;36midentify\u001b[0;34m(*args, **kwargs)\u001b[0m\n\u001b[1;32m     35\u001b[0m \u001b[38;5;28;01mdef\u001b[39;00m\u001b[38;5;250m \u001b[39m\u001b[38;5;21midentify\u001b[39m(\u001b[38;5;241m*\u001b[39margs, \u001b[38;5;241m*\u001b[39m\u001b[38;5;241m*\u001b[39mkwargs):\n\u001b[1;32m     36\u001b[0m \u001b[38;5;250m    \u001b[39m\u001b[38;5;124;03m\"\"\"Send a identify call.\"\"\"\u001b[39;00m\n\u001b[0;32m---> 37\u001b[0m     \u001b[38;5;28;01mreturn\u001b[39;00m \u001b[43m_proxy\u001b[49m\u001b[43m(\u001b[49m\u001b[38;5;124;43m'\u001b[39;49m\u001b[38;5;124;43midentify\u001b[39;49m\u001b[38;5;124;43m'\u001b[39;49m\u001b[43m,\u001b[49m\u001b[43m \u001b[49m\u001b[38;5;241;43m*\u001b[39;49m\u001b[43margs\u001b[49m\u001b[43m,\u001b[49m\u001b[43m \u001b[49m\u001b[38;5;241;43m*\u001b[39;49m\u001b[38;5;241;43m*\u001b[39;49m\u001b[43mkwargs\u001b[49m\u001b[43m)\u001b[49m\n",
      "File \u001b[0;32m~/Documents/GitHub/segment-poc/.venv/lib/python3.13/site-packages/segment/analytics/__init__.py:80\u001b[0m, in \u001b[0;36m_proxy\u001b[0;34m(method, *args, **kwargs)\u001b[0m\n\u001b[1;32m     78\u001b[0m \u001b[38;5;28;01mglobal\u001b[39;00m default_client\n\u001b[1;32m     79\u001b[0m \u001b[38;5;28;01mif\u001b[39;00m \u001b[38;5;129;01mnot\u001b[39;00m default_client:\n\u001b[0;32m---> 80\u001b[0m     default_client \u001b[38;5;241m=\u001b[39m \u001b[43mClient\u001b[49m\u001b[43m(\u001b[49m\u001b[43mwrite_key\u001b[49m\u001b[43m,\u001b[49m\u001b[43m \u001b[49m\u001b[43mhost\u001b[49m\u001b[38;5;241;43m=\u001b[39;49m\u001b[43mhost\u001b[49m\u001b[43m,\u001b[49m\u001b[43m \u001b[49m\u001b[43mdebug\u001b[49m\u001b[38;5;241;43m=\u001b[39;49m\u001b[43mdebug\u001b[49m\u001b[43m,\u001b[49m\n\u001b[1;32m     81\u001b[0m \u001b[43m                            \u001b[49m\u001b[43mmax_queue_size\u001b[49m\u001b[38;5;241;43m=\u001b[39;49m\u001b[43mmax_queue_size\u001b[49m\u001b[43m,\u001b[49m\n\u001b[1;32m     82\u001b[0m \u001b[43m                            \u001b[49m\u001b[43msend\u001b[49m\u001b[38;5;241;43m=\u001b[39;49m\u001b[43msend\u001b[49m\u001b[43m,\u001b[49m\u001b[43m \u001b[49m\u001b[43mon_error\u001b[49m\u001b[38;5;241;43m=\u001b[39;49m\u001b[43mon_error\u001b[49m\u001b[43m,\u001b[49m\n\u001b[1;32m     83\u001b[0m \u001b[43m                            \u001b[49m\u001b[43mgzip\u001b[49m\u001b[38;5;241;43m=\u001b[39;49m\u001b[43mgzip\u001b[49m\u001b[43m,\u001b[49m\u001b[43m \u001b[49m\u001b[43mmax_retries\u001b[49m\u001b[38;5;241;43m=\u001b[39;49m\u001b[43mmax_retries\u001b[49m\u001b[43m,\u001b[49m\n\u001b[1;32m     84\u001b[0m \u001b[43m                            \u001b[49m\u001b[43msync_mode\u001b[49m\u001b[38;5;241;43m=\u001b[39;49m\u001b[43msync_mode\u001b[49m\u001b[43m,\u001b[49m\u001b[43m \u001b[49m\u001b[43mtimeout\u001b[49m\u001b[38;5;241;43m=\u001b[39;49m\u001b[43mtimeout\u001b[49m\u001b[43m,\u001b[49m\u001b[43m \u001b[49m\n\u001b[1;32m     85\u001b[0m \u001b[43m                            \u001b[49m\u001b[43moauth_client_id\u001b[49m\u001b[38;5;241;43m=\u001b[39;49m\u001b[43moauth_client_id\u001b[49m\u001b[43m,\u001b[49m\n\u001b[1;32m     86\u001b[0m \u001b[43m                            \u001b[49m\u001b[43moauth_client_key\u001b[49m\u001b[38;5;241;43m=\u001b[39;49m\u001b[43moauth_client_key\u001b[49m\u001b[43m,\u001b[49m\n\u001b[1;32m     87\u001b[0m \u001b[43m                            \u001b[49m\u001b[43moauth_key_id\u001b[49m\u001b[38;5;241;43m=\u001b[39;49m\u001b[43moauth_key_id\u001b[49m\u001b[43m,\u001b[49m\n\u001b[1;32m     88\u001b[0m \u001b[43m                            \u001b[49m\u001b[43moauth_auth_server\u001b[49m\u001b[38;5;241;43m=\u001b[39;49m\u001b[43moauth_auth_server\u001b[49m\u001b[43m,\u001b[49m\n\u001b[1;32m     89\u001b[0m \u001b[43m                            \u001b[49m\u001b[43moauth_scope\u001b[49m\u001b[38;5;241;43m=\u001b[39;49m\u001b[43moauth_scope\u001b[49m\u001b[43m,\u001b[49m\n\u001b[1;32m     90\u001b[0m \u001b[43m                            \u001b[49m\u001b[43m)\u001b[49m\n\u001b[1;32m     92\u001b[0m fn \u001b[38;5;241m=\u001b[39m \u001b[38;5;28mgetattr\u001b[39m(default_client, method)\n\u001b[1;32m     93\u001b[0m \u001b[38;5;28;01mreturn\u001b[39;00m fn(\u001b[38;5;241m*\u001b[39margs, \u001b[38;5;241m*\u001b[39m\u001b[38;5;241m*\u001b[39mkwargs)\n",
      "File \u001b[0;32m~/Documents/GitHub/segment-poc/.venv/lib/python3.13/site-packages/segment/analytics/client.py:69\u001b[0m, in \u001b[0;36mClient.__init__\u001b[0;34m(self, write_key, host, debug, max_queue_size, send, on_error, gzip, max_retries, sync_mode, timeout, proxies, thread, upload_size, upload_interval, log_handler, oauth_client_id, oauth_client_key, oauth_key_id, oauth_auth_server, oauth_scope)\u001b[0m\n\u001b[1;32m     48\u001b[0m \u001b[38;5;28;01mdef\u001b[39;00m\u001b[38;5;250m \u001b[39m\u001b[38;5;21m__init__\u001b[39m(\u001b[38;5;28mself\u001b[39m,\n\u001b[1;32m     49\u001b[0m              write_key\u001b[38;5;241m=\u001b[39mDefaultConfig\u001b[38;5;241m.\u001b[39mwrite_key,\n\u001b[1;32m     50\u001b[0m              host\u001b[38;5;241m=\u001b[39mDefaultConfig\u001b[38;5;241m.\u001b[39mhost,\n\u001b[0;32m   (...)\u001b[0m\n\u001b[1;32m     67\u001b[0m              oauth_auth_server\u001b[38;5;241m=\u001b[39mDefaultConfig\u001b[38;5;241m.\u001b[39moauth_auth_server,\n\u001b[1;32m     68\u001b[0m              oauth_scope\u001b[38;5;241m=\u001b[39mDefaultConfig\u001b[38;5;241m.\u001b[39moauth_scope,):\n\u001b[0;32m---> 69\u001b[0m     \u001b[43mrequire\u001b[49m\u001b[43m(\u001b[49m\u001b[38;5;124;43m'\u001b[39;49m\u001b[38;5;124;43mwrite_key\u001b[39;49m\u001b[38;5;124;43m'\u001b[39;49m\u001b[43m,\u001b[49m\u001b[43m \u001b[49m\u001b[43mwrite_key\u001b[49m\u001b[43m,\u001b[49m\u001b[43m \u001b[49m\u001b[38;5;28;43mstr\u001b[39;49m\u001b[43m)\u001b[49m\n\u001b[1;32m     71\u001b[0m     \u001b[38;5;28mself\u001b[39m\u001b[38;5;241m.\u001b[39mqueue \u001b[38;5;241m=\u001b[39m queue\u001b[38;5;241m.\u001b[39mQueue(max_queue_size)\n\u001b[1;32m     72\u001b[0m     \u001b[38;5;28mself\u001b[39m\u001b[38;5;241m.\u001b[39mwrite_key \u001b[38;5;241m=\u001b[39m write_key\n",
      "File \u001b[0;32m~/Documents/GitHub/segment-poc/.venv/lib/python3.13/site-packages/segment/analytics/client.py:350\u001b[0m, in \u001b[0;36mrequire\u001b[0;34m(name, field, data_type)\u001b[0m\n\u001b[1;32m    348\u001b[0m \u001b[38;5;28;01mif\u001b[39;00m \u001b[38;5;129;01mnot\u001b[39;00m \u001b[38;5;28misinstance\u001b[39m(field, data_type):\n\u001b[1;32m    349\u001b[0m     msg \u001b[38;5;241m=\u001b[39m \u001b[38;5;124m'\u001b[39m\u001b[38;5;132;01m{0}\u001b[39;00m\u001b[38;5;124m must have \u001b[39m\u001b[38;5;132;01m{1}\u001b[39;00m\u001b[38;5;124m, got: \u001b[39m\u001b[38;5;132;01m{2}\u001b[39;00m\u001b[38;5;124m'\u001b[39m\u001b[38;5;241m.\u001b[39mformat(name, data_type, field)\n\u001b[0;32m--> 350\u001b[0m     \u001b[38;5;28;01mraise\u001b[39;00m \u001b[38;5;167;01mAssertionError\u001b[39;00m(msg)\n",
      "\u001b[0;31mAssertionError\u001b[0m: write_key must have <class 'str'>, got: None"
     ]
    },
    {
     "ename": "",
     "evalue": "",
     "output_type": "error",
     "traceback": [
      "\u001b[1;31mThe Kernel crashed while executing code in the current cell or a previous cell. \n",
      "\u001b[1;31mPlease review the code in the cell(s) to identify a possible cause of the failure. \n",
      "\u001b[1;31mClick <a href='https://aka.ms/vscodeJupyterKernelCrash'>here</a> for more info. \n",
      "\u001b[1;31mView Jupyter <a href='command:jupyter.viewOutput'>log</a> for further details."
     ]
    }
   ],
   "source": [
    "# Identify the user\n",
    "analytics.identify(id, {\n",
    "    'first_name': fist_name,\n",
    "    'last_name': last_name,\n",
    "    'email': email,\n",
    "    'phone': phone,\n",
    "    'address': { 'city': city, 'country': country },\n",
    "    'created_at': datetime.datetime.now()\n",
    "})"
   ]
  },
  {
   "cell_type": "code",
   "execution_count": 34,
   "metadata": {},
   "outputs": [
    {
     "data": {
      "text/plain": [
       "(True,\n",
       " {'integrations': {},\n",
       "  'anonymousId': None,\n",
       "  'properties': {'product_name': 'Test Product 1',\n",
       "   'email': 'bennett.richardson@cm-demo-123.com',\n",
       "   'price': 100,\n",
       "   'transaction_id': '171ab30e'},\n",
       "  'timestamp': '2025-01-26T17:25:10.899+00:00',\n",
       "  'context': {'library': {'name': 'analytics-python', 'version': '2.3.3'}},\n",
       "  'userId': 'e8bbfa4d',\n",
       "  'type': 'track',\n",
       "  'event': 'Item Purchased',\n",
       "  'messageId': '596e9635-997e-4f27-92f6-576ff9105b5c'})"
      ]
     },
     "execution_count": 34,
     "metadata": {},
     "output_type": "execute_result"
    }
   ],
   "source": [
    "# Track an item purchased event\n",
    "analytics.track(id, 'Item Purchased', {\n",
    "  'product_name': 'Test Product 1',\n",
    "  'email': email,\n",
    "  'price': 100,\n",
    "  'transaction_id': random_string(8)\n",
    "})"
   ]
  },
  {
   "cell_type": "code",
   "execution_count": 35,
   "metadata": {},
   "outputs": [
    {
     "data": {
      "text/plain": [
       "(True,\n",
       " {'integrations': {},\n",
       "  'anonymousId': None,\n",
       "  'properties': {'product_name': 'Test Product 2',\n",
       "   'email': 'bennett.richardson@cm-demo-123.com',\n",
       "   'price': 200,\n",
       "   'transaction_id': '4d7f9972'},\n",
       "  'timestamp': '2025-01-26T17:25:10.905+00:00',\n",
       "  'context': {'library': {'name': 'analytics-python', 'version': '2.3.3'}},\n",
       "  'userId': 'e8bbfa4d',\n",
       "  'type': 'track',\n",
       "  'event': 'Item Purchased',\n",
       "  'messageId': '54d3ca1e-c9fb-418d-9dd5-b33e779b7c4f'})"
      ]
     },
     "execution_count": 35,
     "metadata": {},
     "output_type": "execute_result"
    }
   ],
   "source": [
    "# Track an item purchased event\n",
    "analytics.track(id, 'Item Purchased', {\n",
    "  'product_name': 'Test Product 2',\n",
    "  'email': email,\n",
    "  'price': 200,\n",
    "  'transaction_id': random_string(8)\n",
    "})"
   ]
  },
  {
   "cell_type": "code",
   "execution_count": 36,
   "metadata": {},
   "outputs": [
    {
     "data": {
      "text/plain": [
       "(True,\n",
       " {'integrations': {},\n",
       "  'anonymousId': None,\n",
       "  'properties': {'product_name': 'Test Product 3',\n",
       "   'email': 'bennett.richardson@cm-demo-123.com',\n",
       "   'price': 300,\n",
       "   'transaction_id': '72e79048'},\n",
       "  'timestamp': '2025-01-26T17:25:10.910+00:00',\n",
       "  'context': {'library': {'name': 'analytics-python', 'version': '2.3.3'}},\n",
       "  'userId': 'e8bbfa4d',\n",
       "  'type': 'track',\n",
       "  'event': 'Item Purchased',\n",
       "  'messageId': 'a7a9c0a7-5c12-4c85-aacb-7a9fe29100dc'})"
      ]
     },
     "execution_count": 36,
     "metadata": {},
     "output_type": "execute_result"
    }
   ],
   "source": [
    "# Track an item purchased event\n",
    "analytics.track(id, 'Item Purchased', {\n",
    "  'product_name': 'Test Product 3',\n",
    "  'email': email,\n",
    "  'price': 300,\n",
    "  'transaction_id': random_string(8)\n",
    "})"
   ]
  }
 ],
 "metadata": {
  "kernelspec": {
   "display_name": ".venv",
   "language": "python",
   "name": "python3"
  },
  "language_info": {
   "codemirror_mode": {
    "name": "ipython",
    "version": 3
   },
   "file_extension": ".py",
   "mimetype": "text/x-python",
   "name": "python",
   "nbconvert_exporter": "python",
   "pygments_lexer": "ipython3",
   "version": "3.13.0"
  }
 },
 "nbformat": 4,
 "nbformat_minor": 2
}
