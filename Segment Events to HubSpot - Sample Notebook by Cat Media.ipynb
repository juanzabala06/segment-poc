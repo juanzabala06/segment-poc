{
 "cells": [
  {
   "cell_type": "markdown",
   "metadata": {},
   "source": [
    "# User Analytics and Event Tracking with Segment\n",
    "### This notebook creates is a proof of concept of Twilio Segment Customer Data Plarform integrated with HubSpot to send app events as Contact Object properties data and as Custom Events."
   ]
  },
  {
   "cell_type": "code",
   "execution_count": 133,
   "metadata": {},
   "outputs": [],
   "source": [
    "# import dependencies\n",
    "import segment.analytics as analytics\n",
    "import datetime\n",
    "import dotenv\n",
    "import random\n",
    "import dummies\n",
    "\n",
    "# Load the environment variables\n",
    "write_key = dotenv.get_key('.env', 'WRITE_KEY')\n",
    "\n",
    "# Set up the analytics client\n",
    "analytics.write_key = write_key\n"
   ]
  },
  {
   "cell_type": "code",
   "execution_count": 134,
   "metadata": {},
   "outputs": [
    {
     "name": "stdout",
     "output_type": "stream",
     "text": [
      "Powell Sanchez powell.sanchez@cm-demo-123.com +81596009541 Tokyo Japan 3c7f3721\n"
     ]
    }
   ],
   "source": [
    "# Create a sample user profile with a random email and phone number\n",
    "fist_name = random.choice(dummies.list_of_last_names)\n",
    "last_name = random.choice(dummies.list_of_last_names)\n",
    "email = fist_name.lower() +'.'+ last_name.lower() + '@cm-demo-123.com'\n",
    "location = random.choice(dummies.list_of_locations)\n",
    "phone = location['area_code'] + str(random.randint(100000000, 999999999))\n",
    "country = location['Country']\n",
    "city = location['city']\n",
    "\n",
    "#generate random alphanumeric string of length 8\n",
    "def random_string(length):\n",
    "    return ''.join(random.choice('0123456789ABCDEF') for i in range(length)).lower()\n",
    "id = random_string(8)\n",
    "\n",
    "\n",
    "print(fist_name, last_name, email, phone, city, country, id)"
   ]
  },
  {
   "cell_type": "code",
   "execution_count": 135,
   "metadata": {},
   "outputs": [
    {
     "data": {
      "text/plain": [
       "(True,\n",
       " {'integrations': {},\n",
       "  'anonymousId': None,\n",
       "  'timestamp': '2025-01-26T10:44:55.004+00:00',\n",
       "  'context': {'library': {'name': 'analytics-python', 'version': '2.3.3'}},\n",
       "  'type': 'identify',\n",
       "  'userId': '3c7f3721',\n",
       "  'traits': {'first_name': 'Powell',\n",
       "   'last_name': 'Sanchez',\n",
       "   'email': 'powell.sanchez@cm-demo-123.com',\n",
       "   'phone': '+81596009541',\n",
       "   'address': {'city': 'Tokyo', 'country': 'Japan'},\n",
       "   'created_at': datetime.datetime(2025, 1, 26, 10, 44, 55, 4737)},\n",
       "  'messageId': 'b54eb4d4-491d-4941-b61f-c878f093bf7d'})"
      ]
     },
     "execution_count": 135,
     "metadata": {},
     "output_type": "execute_result"
    }
   ],
   "source": [
    "# Identify the user\n",
    "analytics.identify(id, {\n",
    "    'first_name': fist_name,\n",
    "    'last_name': last_name,\n",
    "    'email': email,\n",
    "    'phone': phone,\n",
    "    'address': { 'city': city, 'country': country },\n",
    "    'created_at': datetime.datetime.now()\n",
    "})"
   ]
  },
  {
   "cell_type": "code",
   "execution_count": 136,
   "metadata": {},
   "outputs": [
    {
     "data": {
      "text/plain": [
       "(True,\n",
       " {'integrations': {},\n",
       "  'anonymousId': None,\n",
       "  'properties': {'product_name': 'Test Product 1',\n",
       "   'email': 'powell.sanchez@cm-demo-123.com',\n",
       "   'price': 100,\n",
       "   'transaction_id': '60594006'},\n",
       "  'timestamp': '2025-01-26T10:44:55.009+00:00',\n",
       "  'context': {'library': {'name': 'analytics-python', 'version': '2.3.3'}},\n",
       "  'userId': '3c7f3721',\n",
       "  'type': 'track',\n",
       "  'event': 'Item Purchased',\n",
       "  'messageId': 'a50d4902-ce9f-4c20-bdef-001dbc19c80a'})"
      ]
     },
     "execution_count": 136,
     "metadata": {},
     "output_type": "execute_result"
    }
   ],
   "source": [
    "# Track an item purchased event\n",
    "analytics.track(id, 'Item Purchased', {\n",
    "  'product_name': 'Test Product 1',\n",
    "  'email': email,\n",
    "  'price': 100,\n",
    "  'transaction_id': random_string(8)\n",
    "})"
   ]
  },
  {
   "cell_type": "code",
   "execution_count": 137,
   "metadata": {},
   "outputs": [
    {
     "data": {
      "text/plain": [
       "(True,\n",
       " {'integrations': {},\n",
       "  'anonymousId': None,\n",
       "  'properties': {'product_name': 'Test Product 2',\n",
       "   'email': 'powell.sanchez@cm-demo-123.com',\n",
       "   'price': 200,\n",
       "   'transaction_id': '9966bc4c'},\n",
       "  'timestamp': '2025-01-26T10:44:55.014+00:00',\n",
       "  'context': {'library': {'name': 'analytics-python', 'version': '2.3.3'}},\n",
       "  'userId': '3c7f3721',\n",
       "  'type': 'track',\n",
       "  'event': 'Item Purchased',\n",
       "  'messageId': 'bada87cd-dd39-4370-b3f5-9d438d8ca9ca'})"
      ]
     },
     "execution_count": 137,
     "metadata": {},
     "output_type": "execute_result"
    }
   ],
   "source": [
    "# Track an item purchased event\n",
    "analytics.track(id, 'Item Purchased', {\n",
    "  'product_name': 'Test Product 2',\n",
    "  'email': email,\n",
    "  'price': 200,\n",
    "  'transaction_id': random_string(8)\n",
    "})"
   ]
  },
  {
   "cell_type": "code",
   "execution_count": 138,
   "metadata": {},
   "outputs": [
    {
     "data": {
      "text/plain": [
       "(True,\n",
       " {'integrations': {},\n",
       "  'anonymousId': None,\n",
       "  'properties': {'product_name': 'Test Product 3',\n",
       "   'email': 'powell.sanchez@cm-demo-123.com',\n",
       "   'price': 300,\n",
       "   'transaction_id': '67280681'},\n",
       "  'timestamp': '2025-01-26T10:44:55.019+00:00',\n",
       "  'context': {'library': {'name': 'analytics-python', 'version': '2.3.3'}},\n",
       "  'userId': '3c7f3721',\n",
       "  'type': 'track',\n",
       "  'event': 'Item Purchased',\n",
       "  'messageId': '92249e97-c485-4f4f-8af6-9155875a315d'})"
      ]
     },
     "execution_count": 138,
     "metadata": {},
     "output_type": "execute_result"
    }
   ],
   "source": [
    "# Track an item purchased event\n",
    "analytics.track(id, 'Item Purchased', {\n",
    "  'product_name': 'Test Product 3',\n",
    "  'email': email,\n",
    "  'price': 300,\n",
    "  'transaction_id': random_string(8)\n",
    "})"
   ]
  }
 ],
 "metadata": {
  "kernelspec": {
   "display_name": ".venv",
   "language": "python",
   "name": "python3"
  },
  "language_info": {
   "codemirror_mode": {
    "name": "ipython",
    "version": 3
   },
   "file_extension": ".py",
   "mimetype": "text/x-python",
   "name": "python",
   "nbconvert_exporter": "python",
   "pygments_lexer": "ipython3",
   "version": "3.13.0"
  }
 },
 "nbformat": 4,
 "nbformat_minor": 2
}
