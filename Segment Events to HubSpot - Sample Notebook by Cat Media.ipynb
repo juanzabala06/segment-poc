{
 "cells": [
  {
   "cell_type": "markdown",
   "metadata": {},
   "source": [
    "# User Analytics and Event Tracking with Segment\n",
    "### This notebook is a proof of concept of Twilio Segment Customer Data Plarform integrated with HubSpot to send app events as Contact Object properties data and as Custom Events."
   ]
  },
  {
   "cell_type": "code",
   "execution_count": 21,
   "metadata": {},
   "outputs": [
    {
     "name": "stdout",
     "output_type": "stream",
     "text": [
      "Requirement already satisfied: appnope==0.1.4 in ./.venv/lib/python3.13/site-packages (from -r requirements.txt (line 1)) (0.1.4)\n",
      "Requirement already satisfied: asttokens==3.0.0 in ./.venv/lib/python3.13/site-packages (from -r requirements.txt (line 2)) (3.0.0)\n",
      "Requirement already satisfied: backoff==2.2.1 in ./.venv/lib/python3.13/site-packages (from -r requirements.txt (line 3)) (2.2.1)\n",
      "Requirement already satisfied: blinker==1.9.0 in ./.venv/lib/python3.13/site-packages (from -r requirements.txt (line 4)) (1.9.0)\n",
      "Requirement already satisfied: certifi==2024.12.14 in ./.venv/lib/python3.13/site-packages (from -r requirements.txt (line 5)) (2024.12.14)\n",
      "Requirement already satisfied: charset-normalizer==3.4.1 in ./.venv/lib/python3.13/site-packages (from -r requirements.txt (line 6)) (3.4.1)\n",
      "Requirement already satisfied: click==8.1.8 in ./.venv/lib/python3.13/site-packages (from -r requirements.txt (line 7)) (8.1.8)\n",
      "Requirement already satisfied: comm==0.2.2 in ./.venv/lib/python3.13/site-packages (from -r requirements.txt (line 8)) (0.2.2)\n",
      "Requirement already satisfied: debugpy==1.8.12 in ./.venv/lib/python3.13/site-packages (from -r requirements.txt (line 9)) (1.8.12)\n",
      "Requirement already satisfied: decorator==5.1.1 in ./.venv/lib/python3.13/site-packages (from -r requirements.txt (line 10)) (5.1.1)\n",
      "Requirement already satisfied: executing==2.2.0 in ./.venv/lib/python3.13/site-packages (from -r requirements.txt (line 11)) (2.2.0)\n",
      "Requirement already satisfied: Flask==3.1.0 in ./.venv/lib/python3.13/site-packages (from -r requirements.txt (line 12)) (3.1.0)\n",
      "Requirement already satisfied: idna==3.10 in ./.venv/lib/python3.13/site-packages (from -r requirements.txt (line 13)) (3.10)\n",
      "Requirement already satisfied: ipykernel==6.29.5 in ./.venv/lib/python3.13/site-packages (from -r requirements.txt (line 14)) (6.29.5)\n",
      "Requirement already satisfied: ipython==8.31.0 in ./.venv/lib/python3.13/site-packages (from -r requirements.txt (line 15)) (8.31.0)\n",
      "Requirement already satisfied: itsdangerous==2.2.0 in ./.venv/lib/python3.13/site-packages (from -r requirements.txt (line 16)) (2.2.0)\n",
      "Requirement already satisfied: jedi==0.19.2 in ./.venv/lib/python3.13/site-packages (from -r requirements.txt (line 17)) (0.19.2)\n",
      "Requirement already satisfied: Jinja2==3.1.5 in ./.venv/lib/python3.13/site-packages (from -r requirements.txt (line 18)) (3.1.5)\n",
      "Requirement already satisfied: jupyter_client==8.6.3 in ./.venv/lib/python3.13/site-packages (from -r requirements.txt (line 19)) (8.6.3)\n",
      "Requirement already satisfied: jupyter_core==5.7.2 in ./.venv/lib/python3.13/site-packages (from -r requirements.txt (line 20)) (5.7.2)\n",
      "Requirement already satisfied: MarkupSafe==3.0.2 in ./.venv/lib/python3.13/site-packages (from -r requirements.txt (line 21)) (3.0.2)\n",
      "Requirement already satisfied: matplotlib-inline==0.1.7 in ./.venv/lib/python3.13/site-packages (from -r requirements.txt (line 22)) (0.1.7)\n",
      "Requirement already satisfied: nest-asyncio==1.6.0 in ./.venv/lib/python3.13/site-packages (from -r requirements.txt (line 23)) (1.6.0)\n",
      "Requirement already satisfied: packaging==24.2 in ./.venv/lib/python3.13/site-packages (from -r requirements.txt (line 24)) (24.2)\n",
      "Requirement already satisfied: parso==0.8.4 in ./.venv/lib/python3.13/site-packages (from -r requirements.txt (line 25)) (0.8.4)\n",
      "Requirement already satisfied: pexpect==4.9.0 in ./.venv/lib/python3.13/site-packages (from -r requirements.txt (line 26)) (4.9.0)\n",
      "Requirement already satisfied: platformdirs==4.3.6 in ./.venv/lib/python3.13/site-packages (from -r requirements.txt (line 27)) (4.3.6)\n",
      "Requirement already satisfied: prompt_toolkit==3.0.50 in ./.venv/lib/python3.13/site-packages (from -r requirements.txt (line 28)) (3.0.50)\n",
      "Requirement already satisfied: psutil==6.1.1 in ./.venv/lib/python3.13/site-packages (from -r requirements.txt (line 29)) (6.1.1)\n",
      "Requirement already satisfied: ptyprocess==0.7.0 in ./.venv/lib/python3.13/site-packages (from -r requirements.txt (line 30)) (0.7.0)\n",
      "Requirement already satisfied: pure_eval==0.2.3 in ./.venv/lib/python3.13/site-packages (from -r requirements.txt (line 31)) (0.2.3)\n",
      "Requirement already satisfied: Pygments==2.19.1 in ./.venv/lib/python3.13/site-packages (from -r requirements.txt (line 32)) (2.19.1)\n",
      "Requirement already satisfied: PyJWT==2.10.1 in ./.venv/lib/python3.13/site-packages (from -r requirements.txt (line 33)) (2.10.1)\n",
      "Requirement already satisfied: python-dateutil==2.9.0.post0 in ./.venv/lib/python3.13/site-packages (from -r requirements.txt (line 34)) (2.9.0.post0)\n",
      "Requirement already satisfied: python-dotenv==1.0.1 in ./.venv/lib/python3.13/site-packages (from -r requirements.txt (line 35)) (1.0.1)\n",
      "Requirement already satisfied: pyzmq==26.2.0 in ./.venv/lib/python3.13/site-packages (from -r requirements.txt (line 36)) (26.2.0)\n",
      "Requirement already satisfied: requests==2.32.3 in ./.venv/lib/python3.13/site-packages (from -r requirements.txt (line 37)) (2.32.3)\n",
      "Requirement already satisfied: segment-analytics-python==2.3.3 in ./.venv/lib/python3.13/site-packages (from -r requirements.txt (line 38)) (2.3.3)\n",
      "Requirement already satisfied: six==1.17.0 in ./.venv/lib/python3.13/site-packages (from -r requirements.txt (line 39)) (1.17.0)\n",
      "Requirement already satisfied: stack-data==0.6.3 in ./.venv/lib/python3.13/site-packages (from -r requirements.txt (line 40)) (0.6.3)\n",
      "Requirement already satisfied: tornado==6.4.2 in ./.venv/lib/python3.13/site-packages (from -r requirements.txt (line 41)) (6.4.2)\n",
      "Requirement already satisfied: traitlets==5.14.3 in ./.venv/lib/python3.13/site-packages (from -r requirements.txt (line 42)) (5.14.3)\n",
      "Requirement already satisfied: urllib3==2.3.0 in ./.venv/lib/python3.13/site-packages (from -r requirements.txt (line 43)) (2.3.0)\n",
      "Requirement already satisfied: wcwidth==0.2.13 in ./.venv/lib/python3.13/site-packages (from -r requirements.txt (line 44)) (0.2.13)\n",
      "Requirement already satisfied: Werkzeug==3.1.3 in ./.venv/lib/python3.13/site-packages (from -r requirements.txt (line 45)) (3.1.3)\n",
      "\n",
      "\u001b[1m[\u001b[0m\u001b[34;49mnotice\u001b[0m\u001b[1;39;49m]\u001b[0m\u001b[39;49m A new release of pip is available: \u001b[0m\u001b[31;49m24.2\u001b[0m\u001b[39;49m -> \u001b[0m\u001b[32;49m24.3.1\u001b[0m\n",
      "\u001b[1m[\u001b[0m\u001b[34;49mnotice\u001b[0m\u001b[1;39;49m]\u001b[0m\u001b[39;49m To update, run: \u001b[0m\u001b[32;49mpip install --upgrade pip\u001b[0m\n"
     ]
    }
   ],
   "source": [
    "!pip install -r requirements.txt"
   ]
  },
  {
   "cell_type": "code",
   "execution_count": 22,
   "metadata": {},
   "outputs": [],
   "source": [
    "# import dependencies\n",
    "import segment.analytics as analytics\n",
    "import datetime\n",
    "import dotenv\n",
    "import random\n",
    "import dummies\n",
    "import string\n",
    "\n",
    "write_key = 'Your Segment Write Key'\n",
    "\n",
    "# Load the environment variables\n",
    "write_key = dotenv.get_key('.env', 'WRITE_KEY')\n",
    "\n",
    "if write_key is None or write_key == 'Your Segment Write Key' or write_key == '':\n",
    "    print('No write key found in .env file or inlined in the script')\n",
    "    \n",
    "\n",
    "# Set up the analytics client\n",
    "analytics.write_key = write_key\n"
   ]
  },
  {
   "cell_type": "code",
   "execution_count": 23,
   "metadata": {},
   "outputs": [
    {
     "name": "stdout",
     "output_type": "stream",
     "text": [
      "Ward Mitchell ward.mitchell@cm-demo-123.com +39254887339 Rome Italy P6Xh1Zov\n"
     ]
    }
   ],
   "source": [
    "# Create a sample user profile with a random email and phone number\n",
    "fist_name = random.choice(dummies.list_of_last_names)\n",
    "last_name = random.choice(dummies.list_of_last_names)\n",
    "email = fist_name.lower() +'.'+ last_name.lower() + '@cm-demo-123.com'\n",
    "location = random.choice(dummies.list_of_locations)\n",
    "phone = location['area_code'] + str(random.randint(100000000, 999999999))\n",
    "country = location['Country']\n",
    "city = location['city']\n",
    "\n",
    "#generate random alphanumeric string of length 8\n",
    "def random_string(length):\n",
    "    characters = string.ascii_letters + string.digits\n",
    "    return ''.join(random.choice(characters) for i in range(length))\n",
    "id = random_string(8)\n",
    "\n",
    "\n",
    "print(fist_name, last_name, email, phone, city, country, id)"
   ]
  },
  {
   "cell_type": "code",
   "execution_count": 24,
   "metadata": {},
   "outputs": [
    {
     "data": {
      "text/plain": [
       "(True,\n",
       " {'integrations': {},\n",
       "  'anonymousId': None,\n",
       "  'timestamp': '2025-01-27T15:55:53.154+00:00',\n",
       "  'context': {'library': {'name': 'analytics-python', 'version': '2.3.3'}},\n",
       "  'type': 'identify',\n",
       "  'userId': 'P6Xh1Zov',\n",
       "  'traits': {'first_name': 'Ward',\n",
       "   'last_name': 'Mitchell',\n",
       "   'email': 'ward.mitchell@cm-demo-123.com',\n",
       "   'phone': '+39254887339',\n",
       "   'address': {'city': 'Rome', 'country': 'Italy'},\n",
       "   'created_at': datetime.datetime(2025, 1, 27, 15, 55, 53, 154149)},\n",
       "  'messageId': '7199cf86-ec73-48e5-80d0-201d6d5e47de'})"
      ]
     },
     "execution_count": 24,
     "metadata": {},
     "output_type": "execute_result"
    }
   ],
   "source": [
    "# Identify the user\n",
    "analytics.identify(id, {\n",
    "    'first_name': fist_name,\n",
    "    'last_name': last_name,\n",
    "    'email': email,\n",
    "    'phone': phone,\n",
    "    'address': { 'city': city, 'country': country },\n",
    "    'created_at': datetime.datetime.now()\n",
    "})"
   ]
  },
  {
   "cell_type": "code",
   "execution_count": 25,
   "metadata": {},
   "outputs": [
    {
     "data": {
      "text/plain": [
       "(True,\n",
       " {'integrations': {},\n",
       "  'anonymousId': None,\n",
       "  'properties': {'product_name': 'Test Product 1',\n",
       "   'email': 'ward.mitchell@cm-demo-123.com',\n",
       "   'price': 100,\n",
       "   'transaction_id': 'V8KrfTnb'},\n",
       "  'timestamp': '2025-01-27T15:55:53.159+00:00',\n",
       "  'context': {'library': {'name': 'analytics-python', 'version': '2.3.3'}},\n",
       "  'userId': 'P6Xh1Zov',\n",
       "  'type': 'track',\n",
       "  'event': 'Item Purchased',\n",
       "  'messageId': '731a6486-460c-4fbb-82b1-c560fd3be0b3'})"
      ]
     },
     "execution_count": 25,
     "metadata": {},
     "output_type": "execute_result"
    }
   ],
   "source": [
    "# Track an item purchased event\n",
    "analytics.track(id, 'Item Purchased', {\n",
    "  'product_name': 'Test Product 1',\n",
    "  'email': email,\n",
    "  'price': 100,\n",
    "  'transaction_id': random_string(8)\n",
    "})"
   ]
  },
  {
   "cell_type": "code",
   "execution_count": 26,
   "metadata": {},
   "outputs": [
    {
     "data": {
      "text/plain": [
       "(True,\n",
       " {'integrations': {},\n",
       "  'anonymousId': None,\n",
       "  'properties': {'product_name': 'Test Product 2',\n",
       "   'email': 'ward.mitchell@cm-demo-123.com',\n",
       "   'price': 200,\n",
       "   'transaction_id': 'j2dZJ2vh'},\n",
       "  'timestamp': '2025-01-27T15:55:53.163+00:00',\n",
       "  'context': {'library': {'name': 'analytics-python', 'version': '2.3.3'}},\n",
       "  'userId': 'P6Xh1Zov',\n",
       "  'type': 'track',\n",
       "  'event': 'Item Purchased',\n",
       "  'messageId': 'e95bd1d8-0823-4575-b717-a7f3f12d4a5b'})"
      ]
     },
     "execution_count": 26,
     "metadata": {},
     "output_type": "execute_result"
    }
   ],
   "source": [
    "# Track an item purchased event\n",
    "analytics.track(id, 'Item Purchased', {\n",
    "  'product_name': 'Test Product 2',\n",
    "  'email': email,\n",
    "  'price': 200,\n",
    "  'transaction_id': random_string(8)\n",
    "})"
   ]
  },
  {
   "cell_type": "code",
   "execution_count": 27,
   "metadata": {},
   "outputs": [
    {
     "data": {
      "text/plain": [
       "(True,\n",
       " {'integrations': {},\n",
       "  'anonymousId': None,\n",
       "  'properties': {'product_name': 'Test Product 3',\n",
       "   'email': 'ward.mitchell@cm-demo-123.com',\n",
       "   'price': 300,\n",
       "   'transaction_id': '9g7Is0rp'},\n",
       "  'timestamp': '2025-01-27T15:55:53.168+00:00',\n",
       "  'context': {'library': {'name': 'analytics-python', 'version': '2.3.3'}},\n",
       "  'userId': 'P6Xh1Zov',\n",
       "  'type': 'track',\n",
       "  'event': 'Item Purchased',\n",
       "  'messageId': 'caa8f992-cb5d-445c-a9fd-642129f99f5d'})"
      ]
     },
     "execution_count": 27,
     "metadata": {},
     "output_type": "execute_result"
    }
   ],
   "source": [
    "# Track an item purchased event\n",
    "analytics.track(id, 'Item Purchased', {\n",
    "  'product_name': 'Test Product 3',\n",
    "  'email': email,\n",
    "  'price': 300,\n",
    "  'transaction_id': random_string(8)\n",
    "})"
   ]
  }
 ],
 "metadata": {
  "kernelspec": {
   "display_name": ".venv",
   "language": "python",
   "name": "python3"
  },
  "language_info": {
   "codemirror_mode": {
    "name": "ipython",
    "version": 3
   },
   "file_extension": ".py",
   "mimetype": "text/x-python",
   "name": "python",
   "nbconvert_exporter": "python",
   "pygments_lexer": "ipython3",
   "version": "3.13.0"
  }
 },
 "nbformat": 4,
 "nbformat_minor": 4
}
